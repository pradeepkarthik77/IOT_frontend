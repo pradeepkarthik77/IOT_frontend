{
 "cells": [
  {
   "cell_type": "code",
   "execution_count": 3,
   "metadata": {},
   "outputs": [],
   "source": [
    "import boto3\n",
    "\n",
    "# Create a session using your AWS credentials\n",
    "session = boto3.Session()\n",
    "\n",
    "# Assume the IAM role to generate temporary credentials\n",
    "sts_client = session.client('sts')\n",
    "assumed_role = sts_client.assume_role(\n",
    "    RoleArn='arn:aws:iam::877950674958:role/WebIdFed_Amazon',\n",
    "    RoleSessionName='web-identity-federation'\n",
    ")\n"
   ]
  },
  {
   "cell_type": "code",
   "execution_count": 5,
   "metadata": {},
   "outputs": [
    {
     "ename": "PartialCredentialsError",
     "evalue": "Partial credentials found in explicit, missing: aws_secret_access_key",
     "output_type": "error",
     "traceback": [
      "\u001b[1;31m---------------------------------------------------------------------------\u001b[0m",
      "\u001b[1;31mPartialCredentialsError\u001b[0m                   Traceback (most recent call last)",
      "Cell \u001b[1;32mIn[5], line 9\u001b[0m\n\u001b[0;32m      6\u001b[0m role_arn \u001b[39m=\u001b[39m \u001b[39m\"\u001b[39m\u001b[39marn:aws:iam::277269862749:role/LabRole\u001b[39m\u001b[39m\"\u001b[39m\n\u001b[0;32m      8\u001b[0m \u001b[39m# Create a connection to DynamoDB\u001b[39;00m\n\u001b[1;32m----> 9\u001b[0m client \u001b[39m=\u001b[39m boto3\u001b[39m.\u001b[39;49mclient(\u001b[39m\"\u001b[39;49m\u001b[39mdynamodb\u001b[39;49m\u001b[39m\"\u001b[39;49m, region_name\u001b[39m=\u001b[39;49m\u001b[39m\"\u001b[39;49m\u001b[39mus-east-1\u001b[39;49m\u001b[39m\"\u001b[39;49m, aws_access_key_id\u001b[39m=\u001b[39;49mrole_arn, aws_secret_access_key\u001b[39m=\u001b[39;49m\u001b[39mNone\u001b[39;49;00m)\n",
      "File \u001b[1;32mc:\\Users\\prade\\anaconda3\\envs\\streamlit\\lib\\site-packages\\boto3\\__init__.py:92\u001b[0m, in \u001b[0;36mclient\u001b[1;34m(*args, **kwargs)\u001b[0m\n\u001b[0;32m     86\u001b[0m \u001b[39mdef\u001b[39;00m \u001b[39mclient\u001b[39m(\u001b[39m*\u001b[39margs, \u001b[39m*\u001b[39m\u001b[39m*\u001b[39mkwargs):\n\u001b[0;32m     87\u001b[0m \u001b[39m    \u001b[39m\u001b[39m\"\"\"\u001b[39;00m\n\u001b[0;32m     88\u001b[0m \u001b[39m    Create a low-level service client by name using the default session.\u001b[39;00m\n\u001b[0;32m     89\u001b[0m \n\u001b[0;32m     90\u001b[0m \u001b[39m    See :py:meth:`boto3.session.Session.client`.\u001b[39;00m\n\u001b[0;32m     91\u001b[0m \u001b[39m    \"\"\"\u001b[39;00m\n\u001b[1;32m---> 92\u001b[0m     \u001b[39mreturn\u001b[39;00m _get_default_session()\u001b[39m.\u001b[39mclient(\u001b[39m*\u001b[39margs, \u001b[39m*\u001b[39m\u001b[39m*\u001b[39mkwargs)\n",
      "File \u001b[1;32mc:\\Users\\prade\\anaconda3\\envs\\streamlit\\lib\\site-packages\\boto3\\session.py:299\u001b[0m, in \u001b[0;36mSession.client\u001b[1;34m(self, service_name, region_name, api_version, use_ssl, verify, endpoint_url, aws_access_key_id, aws_secret_access_key, aws_session_token, config)\u001b[0m\n\u001b[0;32m    217\u001b[0m \u001b[39mdef\u001b[39;00m \u001b[39mclient\u001b[39m(\n\u001b[0;32m    218\u001b[0m     \u001b[39mself\u001b[39m,\n\u001b[0;32m    219\u001b[0m     service_name,\n\u001b[1;32m   (...)\u001b[0m\n\u001b[0;32m    228\u001b[0m     config\u001b[39m=\u001b[39m\u001b[39mNone\u001b[39;00m,\n\u001b[0;32m    229\u001b[0m ):\n\u001b[0;32m    230\u001b[0m \u001b[39m    \u001b[39m\u001b[39m\"\"\"\u001b[39;00m\n\u001b[0;32m    231\u001b[0m \u001b[39m    Create a low-level service client by name.\u001b[39;00m\n\u001b[0;32m    232\u001b[0m \n\u001b[1;32m   (...)\u001b[0m\n\u001b[0;32m    297\u001b[0m \n\u001b[0;32m    298\u001b[0m \u001b[39m    \"\"\"\u001b[39;00m\n\u001b[1;32m--> 299\u001b[0m     \u001b[39mreturn\u001b[39;00m \u001b[39mself\u001b[39;49m\u001b[39m.\u001b[39;49m_session\u001b[39m.\u001b[39;49mcreate_client(\n\u001b[0;32m    300\u001b[0m         service_name,\n\u001b[0;32m    301\u001b[0m         region_name\u001b[39m=\u001b[39;49mregion_name,\n\u001b[0;32m    302\u001b[0m         api_version\u001b[39m=\u001b[39;49mapi_version,\n\u001b[0;32m    303\u001b[0m         use_ssl\u001b[39m=\u001b[39;49muse_ssl,\n\u001b[0;32m    304\u001b[0m         verify\u001b[39m=\u001b[39;49mverify,\n\u001b[0;32m    305\u001b[0m         endpoint_url\u001b[39m=\u001b[39;49mendpoint_url,\n\u001b[0;32m    306\u001b[0m         aws_access_key_id\u001b[39m=\u001b[39;49maws_access_key_id,\n\u001b[0;32m    307\u001b[0m         aws_secret_access_key\u001b[39m=\u001b[39;49maws_secret_access_key,\n\u001b[0;32m    308\u001b[0m         aws_session_token\u001b[39m=\u001b[39;49maws_session_token,\n\u001b[0;32m    309\u001b[0m         config\u001b[39m=\u001b[39;49mconfig,\n\u001b[0;32m    310\u001b[0m     )\n",
      "File \u001b[1;32mc:\\Users\\prade\\anaconda3\\envs\\streamlit\\lib\\site-packages\\botocore\\session.py:944\u001b[0m, in \u001b[0;36mSession.create_client\u001b[1;34m(self, service_name, region_name, api_version, use_ssl, verify, endpoint_url, aws_access_key_id, aws_secret_access_key, aws_session_token, config)\u001b[0m\n\u001b[0;32m    938\u001b[0m     credentials \u001b[39m=\u001b[39m botocore\u001b[39m.\u001b[39mcredentials\u001b[39m.\u001b[39mCredentials(\n\u001b[0;32m    939\u001b[0m         access_key\u001b[39m=\u001b[39maws_access_key_id,\n\u001b[0;32m    940\u001b[0m         secret_key\u001b[39m=\u001b[39maws_secret_access_key,\n\u001b[0;32m    941\u001b[0m         token\u001b[39m=\u001b[39maws_session_token,\n\u001b[0;32m    942\u001b[0m     )\n\u001b[0;32m    943\u001b[0m \u001b[39melif\u001b[39;00m \u001b[39mself\u001b[39m\u001b[39m.\u001b[39m_missing_cred_vars(aws_access_key_id, aws_secret_access_key):\n\u001b[1;32m--> 944\u001b[0m     \u001b[39mraise\u001b[39;00m PartialCredentialsError(\n\u001b[0;32m    945\u001b[0m         provider\u001b[39m=\u001b[39m\u001b[39m'\u001b[39m\u001b[39mexplicit\u001b[39m\u001b[39m'\u001b[39m,\n\u001b[0;32m    946\u001b[0m         cred_var\u001b[39m=\u001b[39m\u001b[39mself\u001b[39m\u001b[39m.\u001b[39m_missing_cred_vars(\n\u001b[0;32m    947\u001b[0m             aws_access_key_id, aws_secret_access_key\n\u001b[0;32m    948\u001b[0m         ),\n\u001b[0;32m    949\u001b[0m     )\n\u001b[0;32m    950\u001b[0m \u001b[39melse\u001b[39;00m:\n\u001b[0;32m    951\u001b[0m     credentials \u001b[39m=\u001b[39m \u001b[39mself\u001b[39m\u001b[39m.\u001b[39mget_credentials()\n",
      "\u001b[1;31mPartialCredentialsError\u001b[0m: Partial credentials found in explicit, missing: aws_secret_access_key"
     ]
    }
   ],
   "source": [
    "\n",
    "# Get the temporary credentials\n",
    "credentials = assumed_role['Credentials']\n",
    "\n",
    "# Create a new session with the temporary credentials\n",
    "session_with_temp_creds = boto3.Session(\n",
    "    aws_access_key_id=credentials['AccessKeyId'],\n",
    "    aws_secret_access_key=credentials['SecretAccessKey'],\n",
    "    aws_session_token=credentials['SessionToken']\n",
    ")\n",
    "\n",
    "# Use the session with temporary credentials to access the DynamoDB table\n",
    "dynamodb = session_with_temp_creds.resource('dynamodb')\n",
    "\n",
    "# Replace 'TABLE_NAME' with the name of your DynamoDB table\n",
    "table = dynamodb.Table('TABLE_NAME')\n",
    "\n",
    "# Scan all records in the DynamoDB table\n",
    "response = table.scan()\n",
    "\n",
    "# Process the response\n",
    "for item in response['Items']:\n",
    "    print(item)\n",
    "    \n",
    "# Paginate through all the records if necessary\n",
    "while 'LastEvaluatedKey' in response:\n",
    "    response = table.scan(ExclusiveStartKey=response['LastEvaluatedKey'])\n",
    "    for item in response['Items']:\n",
    "        print(item)"
   ]
  }
 ],
 "metadata": {
  "kernelspec": {
   "display_name": "streamlit",
   "language": "python",
   "name": "python3"
  },
  "language_info": {
   "codemirror_mode": {
    "name": "ipython",
    "version": 3
   },
   "file_extension": ".py",
   "mimetype": "text/x-python",
   "name": "python",
   "nbconvert_exporter": "python",
   "pygments_lexer": "ipython3",
   "version": "3.9.15"
  },
  "orig_nbformat": 4
 },
 "nbformat": 4,
 "nbformat_minor": 2
}
